{
 "cells": [
  {
   "cell_type": "code",
   "execution_count": 1,
   "metadata": {},
   "outputs": [],
   "source": [
    "from pymongo import MongoClient\n",
    "import pandas as pd\n",
    "import numpy as np"
   ]
  },
  {
   "cell_type": "code",
   "execution_count": 2,
   "metadata": {},
   "outputs": [],
   "source": [
    "connection_string = \"mongodb://localhost:27017/\"\n",
    "client = MongoClient(connection_string)"
   ]
  },
  {
   "cell_type": "code",
   "execution_count": 3,
   "metadata": {},
   "outputs": [],
   "source": [
    "db = client.Mortality_Rate_OF_HHS_Region.AVG_Rate_Data"
   ]
  },
  {
   "cell_type": "code",
   "execution_count": 4,
   "metadata": {},
   "outputs": [],
   "source": [
    "df = pd.read_csv(\"Data Files/HHSRegionsRate.csv\")"
   ]
  },
  {
   "cell_type": "code",
   "execution_count": 5,
   "metadata": {},
   "outputs": [
    {
     "data": {
      "text/html": [
       "<div>\n",
       "<style scoped>\n",
       "    .dataframe tbody tr th:only-of-type {\n",
       "        vertical-align: middle;\n",
       "    }\n",
       "\n",
       "    .dataframe tbody tr th {\n",
       "        vertical-align: top;\n",
       "    }\n",
       "\n",
       "    .dataframe thead th {\n",
       "        text-align: right;\n",
       "    }\n",
       "</style>\n",
       "<table border=\"1\" class=\"dataframe\">\n",
       "  <thead>\n",
       "    <tr style=\"text-align: right;\">\n",
       "      <th></th>\n",
       "      <th>Region</th>\n",
       "      <th>Rate</th>\n",
       "    </tr>\n",
       "  </thead>\n",
       "  <tbody>\n",
       "    <tr>\n",
       "      <th>0</th>\n",
       "      <td>HHS Region 01</td>\n",
       "      <td>26.75</td>\n",
       "    </tr>\n",
       "    <tr>\n",
       "      <th>1</th>\n",
       "      <td>HHS Region 02</td>\n",
       "      <td>23.05</td>\n",
       "    </tr>\n",
       "    <tr>\n",
       "      <th>2</th>\n",
       "      <td>HHS Region 03</td>\n",
       "      <td>29.70</td>\n",
       "    </tr>\n",
       "    <tr>\n",
       "      <th>3</th>\n",
       "      <td>HHS Region 04</td>\n",
       "      <td>33.60</td>\n",
       "    </tr>\n",
       "    <tr>\n",
       "      <th>4</th>\n",
       "      <td>HHS Region 05</td>\n",
       "      <td>28.85</td>\n",
       "    </tr>\n",
       "    <tr>\n",
       "      <th>5</th>\n",
       "      <td>HHS Region 06</td>\n",
       "      <td>32.90</td>\n",
       "    </tr>\n",
       "    <tr>\n",
       "      <th>6</th>\n",
       "      <td>HHS Region 07</td>\n",
       "      <td>29.50</td>\n",
       "    </tr>\n",
       "    <tr>\n",
       "      <th>7</th>\n",
       "      <td>HHS Region 08</td>\n",
       "      <td>33.20</td>\n",
       "    </tr>\n",
       "    <tr>\n",
       "      <th>8</th>\n",
       "      <td>HHS Region 09</td>\n",
       "      <td>32.90</td>\n",
       "    </tr>\n",
       "    <tr>\n",
       "      <th>9</th>\n",
       "      <td>HHS Region 10</td>\n",
       "      <td>34.55</td>\n",
       "    </tr>\n",
       "  </tbody>\n",
       "</table>\n",
       "</div>"
      ],
      "text/plain": [
       "          Region   Rate\n",
       "0  HHS Region 01  26.75\n",
       "1  HHS Region 02  23.05\n",
       "2  HHS Region 03  29.70\n",
       "3  HHS Region 04  33.60\n",
       "4  HHS Region 05  28.85\n",
       "5  HHS Region 06  32.90\n",
       "6  HHS Region 07  29.50\n",
       "7  HHS Region 08  33.20\n",
       "8  HHS Region 09  32.90\n",
       "9  HHS Region 10  34.55"
      ]
     },
     "execution_count": 5,
     "metadata": {},
     "output_type": "execute_result"
    }
   ],
   "source": [
    "df"
   ]
  },
  {
   "cell_type": "code",
   "execution_count": 6,
   "metadata": {},
   "outputs": [],
   "source": [
    "df['Region'] = df['Region'].str.replace(r'HHS Region (\\d+)', r'HHS \\1', regex=True)"
   ]
  },
  {
   "cell_type": "code",
   "execution_count": 7,
   "metadata": {},
   "outputs": [
    {
     "data": {
      "text/html": [
       "<div>\n",
       "<style scoped>\n",
       "    .dataframe tbody tr th:only-of-type {\n",
       "        vertical-align: middle;\n",
       "    }\n",
       "\n",
       "    .dataframe tbody tr th {\n",
       "        vertical-align: top;\n",
       "    }\n",
       "\n",
       "    .dataframe thead th {\n",
       "        text-align: right;\n",
       "    }\n",
       "</style>\n",
       "<table border=\"1\" class=\"dataframe\">\n",
       "  <thead>\n",
       "    <tr style=\"text-align: right;\">\n",
       "      <th></th>\n",
       "      <th>Region</th>\n",
       "      <th>Rate</th>\n",
       "    </tr>\n",
       "  </thead>\n",
       "  <tbody>\n",
       "    <tr>\n",
       "      <th>0</th>\n",
       "      <td>HHS 01</td>\n",
       "      <td>26.75</td>\n",
       "    </tr>\n",
       "    <tr>\n",
       "      <th>1</th>\n",
       "      <td>HHS 02</td>\n",
       "      <td>23.05</td>\n",
       "    </tr>\n",
       "    <tr>\n",
       "      <th>2</th>\n",
       "      <td>HHS 03</td>\n",
       "      <td>29.70</td>\n",
       "    </tr>\n",
       "    <tr>\n",
       "      <th>3</th>\n",
       "      <td>HHS 04</td>\n",
       "      <td>33.60</td>\n",
       "    </tr>\n",
       "    <tr>\n",
       "      <th>4</th>\n",
       "      <td>HHS 05</td>\n",
       "      <td>28.85</td>\n",
       "    </tr>\n",
       "    <tr>\n",
       "      <th>5</th>\n",
       "      <td>HHS 06</td>\n",
       "      <td>32.90</td>\n",
       "    </tr>\n",
       "    <tr>\n",
       "      <th>6</th>\n",
       "      <td>HHS 07</td>\n",
       "      <td>29.50</td>\n",
       "    </tr>\n",
       "    <tr>\n",
       "      <th>7</th>\n",
       "      <td>HHS 08</td>\n",
       "      <td>33.20</td>\n",
       "    </tr>\n",
       "    <tr>\n",
       "      <th>8</th>\n",
       "      <td>HHS 09</td>\n",
       "      <td>32.90</td>\n",
       "    </tr>\n",
       "    <tr>\n",
       "      <th>9</th>\n",
       "      <td>HHS 10</td>\n",
       "      <td>34.55</td>\n",
       "    </tr>\n",
       "  </tbody>\n",
       "</table>\n",
       "</div>"
      ],
      "text/plain": [
       "   Region   Rate\n",
       "0  HHS 01  26.75\n",
       "1  HHS 02  23.05\n",
       "2  HHS 03  29.70\n",
       "3  HHS 04  33.60\n",
       "4  HHS 05  28.85\n",
       "5  HHS 06  32.90\n",
       "6  HHS 07  29.50\n",
       "7  HHS 08  33.20\n",
       "8  HHS 09  32.90\n",
       "9  HHS 10  34.55"
      ]
     },
     "execution_count": 7,
     "metadata": {},
     "output_type": "execute_result"
    }
   ],
   "source": [
    "df"
   ]
  },
  {
   "cell_type": "code",
   "execution_count": 8,
   "metadata": {},
   "outputs": [],
   "source": [
    "df.columns =['name', 'value']"
   ]
  },
  {
   "cell_type": "code",
   "execution_count": 9,
   "metadata": {},
   "outputs": [
    {
     "data": {
      "text/html": [
       "<div>\n",
       "<style scoped>\n",
       "    .dataframe tbody tr th:only-of-type {\n",
       "        vertical-align: middle;\n",
       "    }\n",
       "\n",
       "    .dataframe tbody tr th {\n",
       "        vertical-align: top;\n",
       "    }\n",
       "\n",
       "    .dataframe thead th {\n",
       "        text-align: right;\n",
       "    }\n",
       "</style>\n",
       "<table border=\"1\" class=\"dataframe\">\n",
       "  <thead>\n",
       "    <tr style=\"text-align: right;\">\n",
       "      <th></th>\n",
       "      <th>name</th>\n",
       "      <th>value</th>\n",
       "    </tr>\n",
       "  </thead>\n",
       "  <tbody>\n",
       "    <tr>\n",
       "      <th>0</th>\n",
       "      <td>HHS 1</td>\n",
       "      <td>26.75</td>\n",
       "    </tr>\n",
       "    <tr>\n",
       "      <th>1</th>\n",
       "      <td>HHS 2</td>\n",
       "      <td>23.05</td>\n",
       "    </tr>\n",
       "    <tr>\n",
       "      <th>2</th>\n",
       "      <td>HHS 3</td>\n",
       "      <td>29.70</td>\n",
       "    </tr>\n",
       "    <tr>\n",
       "      <th>3</th>\n",
       "      <td>HHS 4</td>\n",
       "      <td>33.60</td>\n",
       "    </tr>\n",
       "    <tr>\n",
       "      <th>4</th>\n",
       "      <td>HHS 5</td>\n",
       "      <td>28.85</td>\n",
       "    </tr>\n",
       "    <tr>\n",
       "      <th>5</th>\n",
       "      <td>HHS 6</td>\n",
       "      <td>32.90</td>\n",
       "    </tr>\n",
       "    <tr>\n",
       "      <th>6</th>\n",
       "      <td>HHS 7</td>\n",
       "      <td>29.50</td>\n",
       "    </tr>\n",
       "    <tr>\n",
       "      <th>7</th>\n",
       "      <td>HHS 8</td>\n",
       "      <td>33.20</td>\n",
       "    </tr>\n",
       "    <tr>\n",
       "      <th>8</th>\n",
       "      <td>HHS 9</td>\n",
       "      <td>32.90</td>\n",
       "    </tr>\n",
       "    <tr>\n",
       "      <th>9</th>\n",
       "      <td>HHS 10</td>\n",
       "      <td>34.55</td>\n",
       "    </tr>\n",
       "  </tbody>\n",
       "</table>\n",
       "</div>"
      ],
      "text/plain": [
       "     name  value\n",
       "0   HHS 1  26.75\n",
       "1   HHS 2  23.05\n",
       "2   HHS 3  29.70\n",
       "3   HHS 4  33.60\n",
       "4   HHS 5  28.85\n",
       "5   HHS 6  32.90\n",
       "6   HHS 7  29.50\n",
       "7   HHS 8  33.20\n",
       "8   HHS 9  32.90\n",
       "9  HHS 10  34.55"
      ]
     },
     "execution_count": 9,
     "metadata": {},
     "output_type": "execute_result"
    }
   ],
   "source": [
    "df"
   ]
  },
  {
   "cell_type": "code",
   "execution_count": 10,
   "metadata": {},
   "outputs": [],
   "source": [
    "df['value'] = df['value'].round(2)"
   ]
  },
  {
   "cell_type": "code",
   "execution_count": 11,
   "metadata": {},
   "outputs": [
    {
     "data": {
      "text/html": [
       "<div>\n",
       "<style scoped>\n",
       "    .dataframe tbody tr th:only-of-type {\n",
       "        vertical-align: middle;\n",
       "    }\n",
       "\n",
       "    .dataframe tbody tr th {\n",
       "        vertical-align: top;\n",
       "    }\n",
       "\n",
       "    .dataframe thead th {\n",
       "        text-align: right;\n",
       "    }\n",
       "</style>\n",
       "<table border=\"1\" class=\"dataframe\">\n",
       "  <thead>\n",
       "    <tr style=\"text-align: right;\">\n",
       "      <th></th>\n",
       "      <th>name</th>\n",
       "      <th>value</th>\n",
       "    </tr>\n",
       "  </thead>\n",
       "  <tbody>\n",
       "    <tr>\n",
       "      <th>0</th>\n",
       "      <td>HHS 1</td>\n",
       "      <td>26.75</td>\n",
       "    </tr>\n",
       "    <tr>\n",
       "      <th>1</th>\n",
       "      <td>HHS 2</td>\n",
       "      <td>23.05</td>\n",
       "    </tr>\n",
       "    <tr>\n",
       "      <th>2</th>\n",
       "      <td>HHS 3</td>\n",
       "      <td>29.70</td>\n",
       "    </tr>\n",
       "    <tr>\n",
       "      <th>3</th>\n",
       "      <td>HHS 4</td>\n",
       "      <td>33.60</td>\n",
       "    </tr>\n",
       "    <tr>\n",
       "      <th>4</th>\n",
       "      <td>HHS 5</td>\n",
       "      <td>28.85</td>\n",
       "    </tr>\n",
       "    <tr>\n",
       "      <th>5</th>\n",
       "      <td>HHS 6</td>\n",
       "      <td>32.90</td>\n",
       "    </tr>\n",
       "    <tr>\n",
       "      <th>6</th>\n",
       "      <td>HHS 7</td>\n",
       "      <td>29.50</td>\n",
       "    </tr>\n",
       "    <tr>\n",
       "      <th>7</th>\n",
       "      <td>HHS 8</td>\n",
       "      <td>33.20</td>\n",
       "    </tr>\n",
       "    <tr>\n",
       "      <th>8</th>\n",
       "      <td>HHS 9</td>\n",
       "      <td>32.90</td>\n",
       "    </tr>\n",
       "    <tr>\n",
       "      <th>9</th>\n",
       "      <td>HHS 10</td>\n",
       "      <td>34.55</td>\n",
       "    </tr>\n",
       "  </tbody>\n",
       "</table>\n",
       "</div>"
      ],
      "text/plain": [
       "     name  value\n",
       "0   HHS 1  26.75\n",
       "1   HHS 2  23.05\n",
       "2   HHS 3  29.70\n",
       "3   HHS 4  33.60\n",
       "4   HHS 5  28.85\n",
       "5   HHS 6  32.90\n",
       "6   HHS 7  29.50\n",
       "7   HHS 8  33.20\n",
       "8   HHS 9  32.90\n",
       "9  HHS 10  34.55"
      ]
     },
     "execution_count": 11,
     "metadata": {},
     "output_type": "execute_result"
    }
   ],
   "source": [
    "df"
   ]
  },
  {
   "cell_type": "code",
   "execution_count": 12,
   "metadata": {},
   "outputs": [],
   "source": [
    "data = df.to_dict(orient='records')"
   ]
  },
  {
   "cell_type": "code",
   "execution_count": 13,
   "metadata": {},
   "outputs": [
    {
     "data": {
      "text/plain": [
       "[{'name': 'HHS 1', 'value': 26.75},\n",
       " {'name': 'HHS 2', 'value': 23.05},\n",
       " {'name': 'HHS 3', 'value': 29.7},\n",
       " {'name': 'HHS 4', 'value': 33.6},\n",
       " {'name': 'HHS 5', 'value': 28.85},\n",
       " {'name': 'HHS 6', 'value': 32.9},\n",
       " {'name': 'HHS 7', 'value': 29.5},\n",
       " {'name': 'HHS 8', 'value': 33.2},\n",
       " {'name': 'HHS 9', 'value': 32.9},\n",
       " {'name': 'HHS 10', 'value': 34.55}]"
      ]
     },
     "execution_count": 13,
     "metadata": {},
     "output_type": "execute_result"
    }
   ],
   "source": [
    "data"
   ]
  },
  {
   "cell_type": "code",
   "execution_count": 14,
   "metadata": {},
   "outputs": [],
   "source": [
    "data = {'request': 'Region', \"title\":\"Average Mortality Rate in every Region\", 'hue':False, 'data': data}"
   ]
  },
  {
   "cell_type": "code",
   "execution_count": 15,
   "metadata": {},
   "outputs": [
    {
     "data": {
      "text/plain": [
       "InsertOneResult(ObjectId('67128e2136e25fb2d33ce19e'), acknowledged=True)"
      ]
     },
     "execution_count": 15,
     "metadata": {},
     "output_type": "execute_result"
    }
   ],
   "source": [
    "db.insert_one(data)"
   ]
  },
  {
   "cell_type": "code",
   "execution_count": 16,
   "metadata": {},
   "outputs": [],
   "source": [
    "df = pd.read_csv('Data Files/HHS_StatusRate.csv')"
   ]
  },
  {
   "cell_type": "code",
   "execution_count": 17,
   "metadata": {},
   "outputs": [
    {
     "data": {
      "text/html": [
       "<div>\n",
       "<style scoped>\n",
       "    .dataframe tbody tr th:only-of-type {\n",
       "        vertical-align: middle;\n",
       "    }\n",
       "\n",
       "    .dataframe tbody tr th {\n",
       "        vertical-align: top;\n",
       "    }\n",
       "\n",
       "    .dataframe thead th {\n",
       "        text-align: right;\n",
       "    }\n",
       "</style>\n",
       "<table border=\"1\" class=\"dataframe\">\n",
       "  <thead>\n",
       "    <tr style=\"text-align: right;\">\n",
       "      <th></th>\n",
       "      <th>Status</th>\n",
       "      <th>Rate</th>\n",
       "    </tr>\n",
       "  </thead>\n",
       "  <tbody>\n",
       "    <tr>\n",
       "      <th>0</th>\n",
       "      <td>Rural</td>\n",
       "      <td>32.85</td>\n",
       "    </tr>\n",
       "    <tr>\n",
       "      <th>1</th>\n",
       "      <td>Urban</td>\n",
       "      <td>27.75</td>\n",
       "    </tr>\n",
       "  </tbody>\n",
       "</table>\n",
       "</div>"
      ],
      "text/plain": [
       "  Status   Rate\n",
       "0  Rural  32.85\n",
       "1  Urban  27.75"
      ]
     },
     "execution_count": 17,
     "metadata": {},
     "output_type": "execute_result"
    }
   ],
   "source": [
    "df"
   ]
  },
  {
   "cell_type": "code",
   "execution_count": 18,
   "metadata": {},
   "outputs": [],
   "source": [
    "df.columns = ['name', 'value']"
   ]
  },
  {
   "cell_type": "code",
   "execution_count": 19,
   "metadata": {},
   "outputs": [
    {
     "data": {
      "text/html": [
       "<div>\n",
       "<style scoped>\n",
       "    .dataframe tbody tr th:only-of-type {\n",
       "        vertical-align: middle;\n",
       "    }\n",
       "\n",
       "    .dataframe tbody tr th {\n",
       "        vertical-align: top;\n",
       "    }\n",
       "\n",
       "    .dataframe thead th {\n",
       "        text-align: right;\n",
       "    }\n",
       "</style>\n",
       "<table border=\"1\" class=\"dataframe\">\n",
       "  <thead>\n",
       "    <tr style=\"text-align: right;\">\n",
       "      <th></th>\n",
       "      <th>name</th>\n",
       "      <th>value</th>\n",
       "    </tr>\n",
       "  </thead>\n",
       "  <tbody>\n",
       "    <tr>\n",
       "      <th>0</th>\n",
       "      <td>Rural</td>\n",
       "      <td>32.85</td>\n",
       "    </tr>\n",
       "    <tr>\n",
       "      <th>1</th>\n",
       "      <td>Urban</td>\n",
       "      <td>27.75</td>\n",
       "    </tr>\n",
       "  </tbody>\n",
       "</table>\n",
       "</div>"
      ],
      "text/plain": [
       "    name  value\n",
       "0  Rural  32.85\n",
       "1  Urban  27.75"
      ]
     },
     "execution_count": 19,
     "metadata": {},
     "output_type": "execute_result"
    }
   ],
   "source": [
    "df"
   ]
  },
  {
   "cell_type": "code",
   "execution_count": 20,
   "metadata": {},
   "outputs": [],
   "source": [
    "df['value'] = df['value'].round(2)"
   ]
  },
  {
   "cell_type": "code",
   "execution_count": 21,
   "metadata": {},
   "outputs": [
    {
     "data": {
      "text/plain": [
       "[{'name': 'Rural', 'value': 32.85}, {'name': 'Urban', 'value': 27.75}]"
      ]
     },
     "execution_count": 21,
     "metadata": {},
     "output_type": "execute_result"
    }
   ],
   "source": [
    "data = df.to_dict(orient='records')\n",
    "data"
   ]
  },
  {
   "cell_type": "code",
   "execution_count": 22,
   "metadata": {},
   "outputs": [],
   "source": [
    "data = {'request': 'Urban || Rural', \"title\":\"Average Mortality Rate in Rural/Urban\", 'hue':False, 'data': data}"
   ]
  },
  {
   "cell_type": "code",
   "execution_count": 23,
   "metadata": {},
   "outputs": [
    {
     "data": {
      "text/plain": [
       "InsertOneResult(ObjectId('67128e4536e25fb2d33ce19f'), acknowledged=True)"
      ]
     },
     "execution_count": 23,
     "metadata": {},
     "output_type": "execute_result"
    }
   ],
   "source": [
    "db.insert_one(data)"
   ]
  },
  {
   "cell_type": "code",
   "execution_count": 24,
   "metadata": {},
   "outputs": [
    {
     "data": {
      "text/html": [
       "<div>\n",
       "<style scoped>\n",
       "    .dataframe tbody tr th:only-of-type {\n",
       "        vertical-align: middle;\n",
       "    }\n",
       "\n",
       "    .dataframe tbody tr th {\n",
       "        vertical-align: top;\n",
       "    }\n",
       "\n",
       "    .dataframe thead th {\n",
       "        text-align: right;\n",
       "    }\n",
       "</style>\n",
       "<table border=\"1\" class=\"dataframe\">\n",
       "  <thead>\n",
       "    <tr style=\"text-align: right;\">\n",
       "      <th></th>\n",
       "      <th>Sex</th>\n",
       "      <th>Rate</th>\n",
       "    </tr>\n",
       "  </thead>\n",
       "  <tbody>\n",
       "    <tr>\n",
       "      <th>0</th>\n",
       "      <td>Female</td>\n",
       "      <td>28.15</td>\n",
       "    </tr>\n",
       "    <tr>\n",
       "      <th>1</th>\n",
       "      <td>Male</td>\n",
       "      <td>32.65</td>\n",
       "    </tr>\n",
       "  </tbody>\n",
       "</table>\n",
       "</div>"
      ],
      "text/plain": [
       "      Sex   Rate\n",
       "0  Female  28.15\n",
       "1    Male  32.65"
      ]
     },
     "execution_count": 24,
     "metadata": {},
     "output_type": "execute_result"
    }
   ],
   "source": [
    "df = pd.read_csv('Data Files/HHS_SexRate.csv')\n",
    "df"
   ]
  },
  {
   "cell_type": "code",
   "execution_count": 25,
   "metadata": {},
   "outputs": [],
   "source": [
    "df.columns = ['name', 'value']"
   ]
  },
  {
   "cell_type": "code",
   "execution_count": 26,
   "metadata": {},
   "outputs": [
    {
     "data": {
      "text/html": [
       "<div>\n",
       "<style scoped>\n",
       "    .dataframe tbody tr th:only-of-type {\n",
       "        vertical-align: middle;\n",
       "    }\n",
       "\n",
       "    .dataframe tbody tr th {\n",
       "        vertical-align: top;\n",
       "    }\n",
       "\n",
       "    .dataframe thead th {\n",
       "        text-align: right;\n",
       "    }\n",
       "</style>\n",
       "<table border=\"1\" class=\"dataframe\">\n",
       "  <thead>\n",
       "    <tr style=\"text-align: right;\">\n",
       "      <th></th>\n",
       "      <th>name</th>\n",
       "      <th>value</th>\n",
       "    </tr>\n",
       "  </thead>\n",
       "  <tbody>\n",
       "    <tr>\n",
       "      <th>0</th>\n",
       "      <td>Female</td>\n",
       "      <td>28.15</td>\n",
       "    </tr>\n",
       "    <tr>\n",
       "      <th>1</th>\n",
       "      <td>Male</td>\n",
       "      <td>32.65</td>\n",
       "    </tr>\n",
       "  </tbody>\n",
       "</table>\n",
       "</div>"
      ],
      "text/plain": [
       "     name  value\n",
       "0  Female  28.15\n",
       "1    Male  32.65"
      ]
     },
     "execution_count": 26,
     "metadata": {},
     "output_type": "execute_result"
    }
   ],
   "source": [
    "df"
   ]
  },
  {
   "cell_type": "code",
   "execution_count": 27,
   "metadata": {},
   "outputs": [],
   "source": [
    "df['value'] = df['value'].round(2)"
   ]
  },
  {
   "cell_type": "code",
   "execution_count": 28,
   "metadata": {},
   "outputs": [
    {
     "data": {
      "text/plain": [
       "[{'name': 'Female', 'value': 28.15}, {'name': 'Male', 'value': 32.65}]"
      ]
     },
     "execution_count": 28,
     "metadata": {},
     "output_type": "execute_result"
    }
   ],
   "source": [
    "data = df.to_dict(orient='records')\n",
    "data"
   ]
  },
  {
   "cell_type": "code",
   "execution_count": 29,
   "metadata": {},
   "outputs": [],
   "source": [
    "data = {'request': 'Gender', \"title\":\"Average Mortality Rate Between Male and Female\", 'hue':False, 'data': data}"
   ]
  },
  {
   "cell_type": "code",
   "execution_count": 30,
   "metadata": {},
   "outputs": [
    {
     "data": {
      "text/plain": [
       "InsertOneResult(ObjectId('67128e5636e25fb2d33ce1a0'), acknowledged=True)"
      ]
     },
     "execution_count": 30,
     "metadata": {},
     "output_type": "execute_result"
    }
   ],
   "source": [
    "db.insert_one(data)"
   ]
  },
  {
   "cell_type": "code",
   "execution_count": 31,
   "metadata": {},
   "outputs": [
    {
     "data": {
      "text/html": [
       "<div>\n",
       "<style scoped>\n",
       "    .dataframe tbody tr th:only-of-type {\n",
       "        vertical-align: middle;\n",
       "    }\n",
       "\n",
       "    .dataframe tbody tr th {\n",
       "        vertical-align: top;\n",
       "    }\n",
       "\n",
       "    .dataframe thead th {\n",
       "        text-align: right;\n",
       "    }\n",
       "</style>\n",
       "<table border=\"1\" class=\"dataframe\">\n",
       "  <thead>\n",
       "    <tr style=\"text-align: right;\">\n",
       "      <th></th>\n",
       "      <th>Region</th>\n",
       "      <th>Status</th>\n",
       "      <th>Rate</th>\n",
       "    </tr>\n",
       "  </thead>\n",
       "  <tbody>\n",
       "    <tr>\n",
       "      <th>0</th>\n",
       "      <td>HHS Region 01</td>\n",
       "      <td>Rural</td>\n",
       "      <td>28.35</td>\n",
       "    </tr>\n",
       "    <tr>\n",
       "      <th>1</th>\n",
       "      <td>HHS Region 01</td>\n",
       "      <td>Urban</td>\n",
       "      <td>22.15</td>\n",
       "    </tr>\n",
       "    <tr>\n",
       "      <th>2</th>\n",
       "      <td>HHS Region 02</td>\n",
       "      <td>Rural</td>\n",
       "      <td>23.95</td>\n",
       "    </tr>\n",
       "    <tr>\n",
       "      <th>3</th>\n",
       "      <td>HHS Region 02</td>\n",
       "      <td>Urban</td>\n",
       "      <td>22.55</td>\n",
       "    </tr>\n",
       "    <tr>\n",
       "      <th>4</th>\n",
       "      <td>HHS Region 03</td>\n",
       "      <td>Rural</td>\n",
       "      <td>36.15</td>\n",
       "    </tr>\n",
       "  </tbody>\n",
       "</table>\n",
       "</div>"
      ],
      "text/plain": [
       "          Region Status   Rate\n",
       "0  HHS Region 01  Rural  28.35\n",
       "1  HHS Region 01  Urban  22.15\n",
       "2  HHS Region 02  Rural  23.95\n",
       "3  HHS Region 02  Urban  22.55\n",
       "4  HHS Region 03  Rural  36.15"
      ]
     },
     "execution_count": 31,
     "metadata": {},
     "output_type": "execute_result"
    }
   ],
   "source": [
    "df = pd.read_csv('Data Files/HHSRegionStatusRate.csv')\n",
    "df.head()"
   ]
  },
  {
   "cell_type": "code",
   "execution_count": 32,
   "metadata": {},
   "outputs": [],
   "source": [
    "unique_regions = df['Region'].unique()\n",
    "region_mapping = {region: f'HHS {i+1}' for i, region in enumerate(unique_regions)}\n",
    "\n",
    "# Apply the mapping to the Region column\n",
    "df['Region'] = df['Region'].map(region_mapping)"
   ]
  },
  {
   "cell_type": "code",
   "execution_count": 33,
   "metadata": {},
   "outputs": [],
   "source": [
    "df['Rate'] = df['Rate'].round(2)"
   ]
  },
  {
   "cell_type": "code",
   "execution_count": 34,
   "metadata": {},
   "outputs": [
    {
     "data": {
      "text/plain": [
       "[{'name': 'HHS 1', 'values': {'Rural': 28.35, 'Urban': 22.15}},\n",
       " {'name': 'HHS 10', 'values': {'Rural': 35.5, 'Urban': 32.55}},\n",
       " {'name': 'HHS 2', 'values': {'Rural': 23.95, 'Urban': 22.55}},\n",
       " {'name': 'HHS 3', 'values': {'Rural': 36.15, 'Urban': 24.65}},\n",
       " {'name': 'HHS 4', 'values': {'Rural': 38.25, 'Urban': 27.2}},\n",
       " {'name': 'HHS 5', 'values': {'Rural': 30.75, 'Urban': 26.3}},\n",
       " {'name': 'HHS 6', 'values': {'Rural': 36.45, 'Urban': 27.35}},\n",
       " {'name': 'HHS 7', 'values': {'Rural': 32.85, 'Urban': 28.25}},\n",
       " {'name': 'HHS 8', 'values': {'Rural': 35.25, 'Urban': 31.8}},\n",
       " {'name': 'HHS 9', 'values': {'Rural': 36.0, 'Urban': 28.7}}]"
      ]
     },
     "execution_count": 34,
     "metadata": {},
     "output_type": "execute_result"
    }
   ],
   "source": [
    "data = []\n",
    "for region, group in df.groupby('Region'):\n",
    "    temp = {\n",
    "        'name': region,\n",
    "        'values': dict(zip(group['Status'], group['Rate'])) \n",
    "    }\n",
    "    data.append(temp)\n",
    "    \n",
    "data"
   ]
  },
  {
   "cell_type": "code",
   "execution_count": 35,
   "metadata": {},
   "outputs": [],
   "source": [
    "data = {'request': 'Region-Urban || Rural', \"title\":\"Average Mortality Rate By Urban/Rural in Every Region\", 'hue':True, 'data': data}"
   ]
  },
  {
   "cell_type": "code",
   "execution_count": 36,
   "metadata": {},
   "outputs": [
    {
     "data": {
      "text/plain": [
       "InsertOneResult(ObjectId('67128e6a36e25fb2d33ce1a1'), acknowledged=True)"
      ]
     },
     "execution_count": 36,
     "metadata": {},
     "output_type": "execute_result"
    }
   ],
   "source": [
    "db.insert_one(data)"
   ]
  },
  {
   "cell_type": "code",
   "execution_count": 37,
   "metadata": {},
   "outputs": [],
   "source": [
    "df = pd.read_csv('Data Files/RuralAreaRate.csv')"
   ]
  },
  {
   "cell_type": "code",
   "execution_count": 38,
   "metadata": {},
   "outputs": [
    {
     "data": {
      "text/html": [
       "<div>\n",
       "<style scoped>\n",
       "    .dataframe tbody tr th:only-of-type {\n",
       "        vertical-align: middle;\n",
       "    }\n",
       "\n",
       "    .dataframe tbody tr th {\n",
       "        vertical-align: top;\n",
       "    }\n",
       "\n",
       "    .dataframe thead th {\n",
       "        text-align: right;\n",
       "    }\n",
       "</style>\n",
       "<table border=\"1\" class=\"dataframe\">\n",
       "  <thead>\n",
       "    <tr style=\"text-align: right;\">\n",
       "      <th></th>\n",
       "      <th>Region</th>\n",
       "      <th>Status</th>\n",
       "      <th>Sex</th>\n",
       "      <th>Rate</th>\n",
       "    </tr>\n",
       "  </thead>\n",
       "  <tbody>\n",
       "    <tr>\n",
       "      <th>0</th>\n",
       "      <td>HHS Region 01</td>\n",
       "      <td>Rural</td>\n",
       "      <td>Female</td>\n",
       "      <td>28.35</td>\n",
       "    </tr>\n",
       "    <tr>\n",
       "      <th>1</th>\n",
       "      <td>HHS Region 01</td>\n",
       "      <td>Rural</td>\n",
       "      <td>Male</td>\n",
       "      <td>28.40</td>\n",
       "    </tr>\n",
       "    <tr>\n",
       "      <th>2</th>\n",
       "      <td>HHS Region 02</td>\n",
       "      <td>Rural</td>\n",
       "      <td>Female</td>\n",
       "      <td>20.65</td>\n",
       "    </tr>\n",
       "    <tr>\n",
       "      <th>3</th>\n",
       "      <td>HHS Region 02</td>\n",
       "      <td>Rural</td>\n",
       "      <td>Male</td>\n",
       "      <td>28.70</td>\n",
       "    </tr>\n",
       "    <tr>\n",
       "      <th>4</th>\n",
       "      <td>HHS Region 03</td>\n",
       "      <td>Rural</td>\n",
       "      <td>Female</td>\n",
       "      <td>33.00</td>\n",
       "    </tr>\n",
       "  </tbody>\n",
       "</table>\n",
       "</div>"
      ],
      "text/plain": [
       "          Region Status     Sex   Rate\n",
       "0  HHS Region 01  Rural  Female  28.35\n",
       "1  HHS Region 01  Rural    Male  28.40\n",
       "2  HHS Region 02  Rural  Female  20.65\n",
       "3  HHS Region 02  Rural    Male  28.70\n",
       "4  HHS Region 03  Rural  Female  33.00"
      ]
     },
     "execution_count": 38,
     "metadata": {},
     "output_type": "execute_result"
    }
   ],
   "source": [
    "df.head()"
   ]
  },
  {
   "cell_type": "code",
   "execution_count": 39,
   "metadata": {},
   "outputs": [],
   "source": [
    "df['Region'] = df['Region'].str.replace(r'HHS Region (\\d+)', r'HHS \\1', regex=True)\n",
    "df.drop('Status', axis=1, inplace=True)"
   ]
  },
  {
   "cell_type": "code",
   "execution_count": 40,
   "metadata": {},
   "outputs": [],
   "source": [
    "df['Rate'] = df['Rate'].round(2)"
   ]
  },
  {
   "cell_type": "code",
   "execution_count": 41,
   "metadata": {},
   "outputs": [
    {
     "data": {
      "text/html": [
       "<div>\n",
       "<style scoped>\n",
       "    .dataframe tbody tr th:only-of-type {\n",
       "        vertical-align: middle;\n",
       "    }\n",
       "\n",
       "    .dataframe tbody tr th {\n",
       "        vertical-align: top;\n",
       "    }\n",
       "\n",
       "    .dataframe thead th {\n",
       "        text-align: right;\n",
       "    }\n",
       "</style>\n",
       "<table border=\"1\" class=\"dataframe\">\n",
       "  <thead>\n",
       "    <tr style=\"text-align: right;\">\n",
       "      <th></th>\n",
       "      <th>Region</th>\n",
       "      <th>Sex</th>\n",
       "      <th>Rate</th>\n",
       "    </tr>\n",
       "  </thead>\n",
       "  <tbody>\n",
       "    <tr>\n",
       "      <th>0</th>\n",
       "      <td>HHS 01</td>\n",
       "      <td>Female</td>\n",
       "      <td>28.35</td>\n",
       "    </tr>\n",
       "    <tr>\n",
       "      <th>1</th>\n",
       "      <td>HHS 01</td>\n",
       "      <td>Male</td>\n",
       "      <td>28.40</td>\n",
       "    </tr>\n",
       "    <tr>\n",
       "      <th>2</th>\n",
       "      <td>HHS 02</td>\n",
       "      <td>Female</td>\n",
       "      <td>20.65</td>\n",
       "    </tr>\n",
       "    <tr>\n",
       "      <th>3</th>\n",
       "      <td>HHS 02</td>\n",
       "      <td>Male</td>\n",
       "      <td>28.70</td>\n",
       "    </tr>\n",
       "    <tr>\n",
       "      <th>4</th>\n",
       "      <td>HHS 03</td>\n",
       "      <td>Female</td>\n",
       "      <td>33.00</td>\n",
       "    </tr>\n",
       "  </tbody>\n",
       "</table>\n",
       "</div>"
      ],
      "text/plain": [
       "   Region     Sex   Rate\n",
       "0  HHS 01  Female  28.35\n",
       "1  HHS 01    Male  28.40\n",
       "2  HHS 02  Female  20.65\n",
       "3  HHS 02    Male  28.70\n",
       "4  HHS 03  Female  33.00"
      ]
     },
     "execution_count": 41,
     "metadata": {},
     "output_type": "execute_result"
    }
   ],
   "source": [
    "df.head()"
   ]
  },
  {
   "cell_type": "code",
   "execution_count": 42,
   "metadata": {},
   "outputs": [
    {
     "data": {
      "text/plain": [
       "[{'name': 'HHS 01', 'values': {'Female': 28.35, 'Male': 28.4}},\n",
       " {'name': 'HHS 02', 'values': {'Female': 20.65, 'Male': 28.7}},\n",
       " {'name': 'HHS 03', 'values': {'Female': 33.0, 'Male': 37.5}},\n",
       " {'name': 'HHS 04', 'values': {'Female': 38.25, 'Male': 40.55}},\n",
       " {'name': 'HHS 05', 'values': {'Female': 30.75, 'Male': 34.55}},\n",
       " {'name': 'HHS 06', 'values': {'Female': 36.45, 'Male': 39.35}},\n",
       " {'name': 'HHS 07', 'values': {'Female': 32.85, 'Male': 32.6}},\n",
       " {'name': 'HHS 08', 'values': {'Female': 33.15, 'Male': 35.25}},\n",
       " {'name': 'HHS 09', 'values': {'Female': 30.75, 'Male': 36.0}},\n",
       " {'name': 'HHS 10', 'values': {'Female': 35.55, 'Male': 34.65}}]"
      ]
     },
     "execution_count": 42,
     "metadata": {},
     "output_type": "execute_result"
    }
   ],
   "source": [
    "data = []\n",
    "for region, group in df.groupby('Region'):\n",
    "    temp = {\n",
    "        'name': region,\n",
    "        'values': dict(zip(group['Sex'], group['Rate'])) \n",
    "    }\n",
    "    data.append(temp)\n",
    "    \n",
    "data"
   ]
  },
  {
   "cell_type": "code",
   "execution_count": 43,
   "metadata": {},
   "outputs": [],
   "source": [
    "data = {'request': 'Region-Rural-Gender', \"title\":\"Average Mortality Rate Between Male and Female in Rural Area\", 'hue':True, 'data': data}"
   ]
  },
  {
   "cell_type": "code",
   "execution_count": 44,
   "metadata": {},
   "outputs": [
    {
     "data": {
      "text/plain": [
       "InsertOneResult(ObjectId('67128ed336e25fb2d33ce1a2'), acknowledged=True)"
      ]
     },
     "execution_count": 44,
     "metadata": {},
     "output_type": "execute_result"
    }
   ],
   "source": [
    "db.insert_one(data)"
   ]
  },
  {
   "cell_type": "code",
   "execution_count": 45,
   "metadata": {},
   "outputs": [],
   "source": [
    "df = pd.read_csv('Data Files/UrbanAreaRate.csv')"
   ]
  },
  {
   "cell_type": "code",
   "execution_count": 46,
   "metadata": {},
   "outputs": [
    {
     "data": {
      "text/html": [
       "<div>\n",
       "<style scoped>\n",
       "    .dataframe tbody tr th:only-of-type {\n",
       "        vertical-align: middle;\n",
       "    }\n",
       "\n",
       "    .dataframe tbody tr th {\n",
       "        vertical-align: top;\n",
       "    }\n",
       "\n",
       "    .dataframe thead th {\n",
       "        text-align: right;\n",
       "    }\n",
       "</style>\n",
       "<table border=\"1\" class=\"dataframe\">\n",
       "  <thead>\n",
       "    <tr style=\"text-align: right;\">\n",
       "      <th></th>\n",
       "      <th>Region</th>\n",
       "      <th>Status</th>\n",
       "      <th>Sex</th>\n",
       "      <th>Rate</th>\n",
       "    </tr>\n",
       "  </thead>\n",
       "  <tbody>\n",
       "    <tr>\n",
       "      <th>0</th>\n",
       "      <td>HHS Region 01</td>\n",
       "      <td>Urban</td>\n",
       "      <td>Female</td>\n",
       "      <td>22.15</td>\n",
       "    </tr>\n",
       "    <tr>\n",
       "      <th>1</th>\n",
       "      <td>HHS Region 01</td>\n",
       "      <td>Urban</td>\n",
       "      <td>Male</td>\n",
       "      <td>23.80</td>\n",
       "    </tr>\n",
       "    <tr>\n",
       "      <th>2</th>\n",
       "      <td>HHS Region 02</td>\n",
       "      <td>Urban</td>\n",
       "      <td>Female</td>\n",
       "      <td>16.10</td>\n",
       "    </tr>\n",
       "    <tr>\n",
       "      <th>3</th>\n",
       "      <td>HHS Region 02</td>\n",
       "      <td>Urban</td>\n",
       "      <td>Male</td>\n",
       "      <td>25.95</td>\n",
       "    </tr>\n",
       "    <tr>\n",
       "      <th>4</th>\n",
       "      <td>HHS Region 03</td>\n",
       "      <td>Urban</td>\n",
       "      <td>Female</td>\n",
       "      <td>22.10</td>\n",
       "    </tr>\n",
       "  </tbody>\n",
       "</table>\n",
       "</div>"
      ],
      "text/plain": [
       "          Region Status     Sex   Rate\n",
       "0  HHS Region 01  Urban  Female  22.15\n",
       "1  HHS Region 01  Urban    Male  23.80\n",
       "2  HHS Region 02  Urban  Female  16.10\n",
       "3  HHS Region 02  Urban    Male  25.95\n",
       "4  HHS Region 03  Urban  Female  22.10"
      ]
     },
     "execution_count": 46,
     "metadata": {},
     "output_type": "execute_result"
    }
   ],
   "source": [
    "df.head()"
   ]
  },
  {
   "cell_type": "code",
   "execution_count": 47,
   "metadata": {},
   "outputs": [],
   "source": [
    "df['Region'] = df['Region'].str.replace(r'HHS Region (\\d+)', r'HHS \\1', regex=True)\n",
    "df.drop('Status', axis=1, inplace=True)"
   ]
  },
  {
   "cell_type": "code",
   "execution_count": 48,
   "metadata": {},
   "outputs": [],
   "source": [
    "df['Rate'] = df['Rate'].round(2)"
   ]
  },
  {
   "cell_type": "code",
   "execution_count": 49,
   "metadata": {},
   "outputs": [
    {
     "data": {
      "text/plain": [
       "[{'name': 'HHS 01', 'values': {'Female': 22.15, 'Male': 23.8}},\n",
       " {'name': 'HHS 02', 'values': {'Female': 16.1, 'Male': 25.95}},\n",
       " {'name': 'HHS 03', 'values': {'Female': 22.1, 'Male': 31.6}},\n",
       " {'name': 'HHS 04', 'values': {'Female': 27.2, 'Male': 31.35}},\n",
       " {'name': 'HHS 05', 'values': {'Female': 25.95, 'Male': 32.45}},\n",
       " {'name': 'HHS 06', 'values': {'Female': 27.35, 'Male': 33.8}},\n",
       " {'name': 'HHS 07', 'values': {'Female': 28.25, 'Male': 30.3}},\n",
       " {'name': 'HHS 08', 'values': {'Female': 31.8, 'Male': 31.4}},\n",
       " {'name': 'HHS 09', 'values': {'Female': 26.3, 'Male': 29.9}},\n",
       " {'name': 'HHS 10', 'values': {'Female': 31.8, 'Male': 33.35}}]"
      ]
     },
     "execution_count": 49,
     "metadata": {},
     "output_type": "execute_result"
    }
   ],
   "source": [
    "data = []\n",
    "for region, group in df.groupby('Region'):\n",
    "    temp = {\n",
    "        'name': region,\n",
    "        'values': dict(zip(group['Sex'], group['Rate'])) \n",
    "    }\n",
    "    data.append(temp)\n",
    "    \n",
    "data"
   ]
  },
  {
   "cell_type": "code",
   "execution_count": 50,
   "metadata": {},
   "outputs": [],
   "source": [
    "data = {'request': 'Region-Urban-Gender', \"title\":\"Average Mortality Rate Between Male and Female in Urban Area\", 'hue':True, 'data': data}"
   ]
  },
  {
   "cell_type": "code",
   "execution_count": 51,
   "metadata": {},
   "outputs": [
    {
     "data": {
      "text/plain": [
       "InsertOneResult(ObjectId('67128f0536e25fb2d33ce1a3'), acknowledged=True)"
      ]
     },
     "execution_count": 51,
     "metadata": {},
     "output_type": "execute_result"
    }
   ],
   "source": [
    "db.insert_one(data)"
   ]
  },
  {
   "cell_type": "code",
   "execution_count": 52,
   "metadata": {},
   "outputs": [
    {
     "data": {
      "text/html": [
       "<div>\n",
       "<style scoped>\n",
       "    .dataframe tbody tr th:only-of-type {\n",
       "        vertical-align: middle;\n",
       "    }\n",
       "\n",
       "    .dataframe tbody tr th {\n",
       "        vertical-align: top;\n",
       "    }\n",
       "\n",
       "    .dataframe thead th {\n",
       "        text-align: right;\n",
       "    }\n",
       "</style>\n",
       "<table border=\"1\" class=\"dataframe\">\n",
       "  <thead>\n",
       "    <tr style=\"text-align: right;\">\n",
       "      <th></th>\n",
       "      <th>Cause</th>\n",
       "      <th>Rate</th>\n",
       "    </tr>\n",
       "  </thead>\n",
       "  <tbody>\n",
       "    <tr>\n",
       "      <th>0</th>\n",
       "      <td>Heart disease</td>\n",
       "      <td>175.85</td>\n",
       "    </tr>\n",
       "    <tr>\n",
       "      <th>1</th>\n",
       "      <td>Cancer</td>\n",
       "      <td>161.85</td>\n",
       "    </tr>\n",
       "    <tr>\n",
       "      <th>2</th>\n",
       "      <td>Lower respiratory</td>\n",
       "      <td>45.95</td>\n",
       "    </tr>\n",
       "    <tr>\n",
       "      <th>3</th>\n",
       "      <td>Unintentional injuries</td>\n",
       "      <td>41.10</td>\n",
       "    </tr>\n",
       "    <tr>\n",
       "      <th>4</th>\n",
       "      <td>Cerebrovascular diseases</td>\n",
       "      <td>37.35</td>\n",
       "    </tr>\n",
       "  </tbody>\n",
       "</table>\n",
       "</div>"
      ],
      "text/plain": [
       "                      Cause    Rate\n",
       "0             Heart disease  175.85\n",
       "1                    Cancer  161.85\n",
       "2         Lower respiratory   45.95\n",
       "3    Unintentional injuries   41.10\n",
       "4  Cerebrovascular diseases   37.35"
      ]
     },
     "execution_count": 52,
     "metadata": {},
     "output_type": "execute_result"
    }
   ],
   "source": [
    "df = pd.read_csv('Data Files/HHS_CauseRate.csv')\n",
    "df.head()"
   ]
  },
  {
   "cell_type": "code",
   "execution_count": 53,
   "metadata": {},
   "outputs": [],
   "source": [
    "df.columns = ['name', 'value']"
   ]
  },
  {
   "cell_type": "code",
   "execution_count": 54,
   "metadata": {},
   "outputs": [],
   "source": [
    "df['value'] = df['value'].round(2)"
   ]
  },
  {
   "cell_type": "code",
   "execution_count": 55,
   "metadata": {},
   "outputs": [
    {
     "data": {
      "text/html": [
       "<div>\n",
       "<style scoped>\n",
       "    .dataframe tbody tr th:only-of-type {\n",
       "        vertical-align: middle;\n",
       "    }\n",
       "\n",
       "    .dataframe tbody tr th {\n",
       "        vertical-align: top;\n",
       "    }\n",
       "\n",
       "    .dataframe thead th {\n",
       "        text-align: right;\n",
       "    }\n",
       "</style>\n",
       "<table border=\"1\" class=\"dataframe\">\n",
       "  <thead>\n",
       "    <tr style=\"text-align: right;\">\n",
       "      <th></th>\n",
       "      <th>name</th>\n",
       "      <th>value</th>\n",
       "    </tr>\n",
       "  </thead>\n",
       "  <tbody>\n",
       "    <tr>\n",
       "      <th>0</th>\n",
       "      <td>Heart disease</td>\n",
       "      <td>175.85</td>\n",
       "    </tr>\n",
       "    <tr>\n",
       "      <th>1</th>\n",
       "      <td>Cancer</td>\n",
       "      <td>161.85</td>\n",
       "    </tr>\n",
       "    <tr>\n",
       "      <th>2</th>\n",
       "      <td>Lower respiratory</td>\n",
       "      <td>45.95</td>\n",
       "    </tr>\n",
       "    <tr>\n",
       "      <th>3</th>\n",
       "      <td>Unintentional injuries</td>\n",
       "      <td>41.10</td>\n",
       "    </tr>\n",
       "    <tr>\n",
       "      <th>4</th>\n",
       "      <td>Cerebrovascular diseases</td>\n",
       "      <td>37.35</td>\n",
       "    </tr>\n",
       "  </tbody>\n",
       "</table>\n",
       "</div>"
      ],
      "text/plain": [
       "                       name   value\n",
       "0             Heart disease  175.85\n",
       "1                    Cancer  161.85\n",
       "2         Lower respiratory   45.95\n",
       "3    Unintentional injuries   41.10\n",
       "4  Cerebrovascular diseases   37.35"
      ]
     },
     "execution_count": 55,
     "metadata": {},
     "output_type": "execute_result"
    }
   ],
   "source": [
    "df.head()"
   ]
  },
  {
   "cell_type": "code",
   "execution_count": 56,
   "metadata": {},
   "outputs": [
    {
     "data": {
      "text/plain": [
       "[{'name': 'Heart disease', 'value': 175.85},\n",
       " {'name': 'Cancer', 'value': 161.85},\n",
       " {'name': 'Lower respiratory', 'value': 45.95},\n",
       " {'name': 'Unintentional injuries', 'value': 41.1},\n",
       " {'name': 'Cerebrovascular diseases', 'value': 37.35},\n",
       " {'name': 'Alzheimers', 'value': 23.75},\n",
       " {'name': 'Diabetes', 'value': 22.95},\n",
       " {'name': 'Flu and pneumonia', 'value': 15.55},\n",
       " {'name': 'Nephritis', 'value': 12.9},\n",
       " {'name': 'Suicide', 'value': 11.15}]"
      ]
     },
     "execution_count": 56,
     "metadata": {},
     "output_type": "execute_result"
    }
   ],
   "source": [
    "data = df.to_dict(orient='records')\n",
    "data"
   ]
  },
  {
   "cell_type": "code",
   "execution_count": 57,
   "metadata": {},
   "outputs": [],
   "source": [
    "data = {'request': 'Cause', \"title\":\"Average Mortality Rate by Every Cause\", 'hue':False, 'data': data}"
   ]
  },
  {
   "cell_type": "code",
   "execution_count": 58,
   "metadata": {},
   "outputs": [
    {
     "data": {
      "text/plain": [
       "InsertOneResult(ObjectId('67128f2136e25fb2d33ce1a4'), acknowledged=True)"
      ]
     },
     "execution_count": 58,
     "metadata": {},
     "output_type": "execute_result"
    }
   ],
   "source": [
    "db.insert_one(data)"
   ]
  },
  {
   "cell_type": "code",
   "execution_count": 59,
   "metadata": {},
   "outputs": [
    {
     "data": {
      "text/html": [
       "<div>\n",
       "<style scoped>\n",
       "    .dataframe tbody tr th:only-of-type {\n",
       "        vertical-align: middle;\n",
       "    }\n",
       "\n",
       "    .dataframe tbody tr th {\n",
       "        vertical-align: top;\n",
       "    }\n",
       "\n",
       "    .dataframe thead th {\n",
       "        text-align: right;\n",
       "    }\n",
       "</style>\n",
       "<table border=\"1\" class=\"dataframe\">\n",
       "  <thead>\n",
       "    <tr style=\"text-align: right;\">\n",
       "      <th></th>\n",
       "      <th>Status</th>\n",
       "      <th>Cause</th>\n",
       "      <th>Rate</th>\n",
       "    </tr>\n",
       "  </thead>\n",
       "  <tbody>\n",
       "    <tr>\n",
       "      <th>0</th>\n",
       "      <td>Rural</td>\n",
       "      <td>Heart disease</td>\n",
       "      <td>184.00</td>\n",
       "    </tr>\n",
       "    <tr>\n",
       "      <th>1</th>\n",
       "      <td>Rural</td>\n",
       "      <td>Cancer</td>\n",
       "      <td>165.20</td>\n",
       "    </tr>\n",
       "    <tr>\n",
       "      <th>2</th>\n",
       "      <td>Urban</td>\n",
       "      <td>Cancer</td>\n",
       "      <td>158.45</td>\n",
       "    </tr>\n",
       "    <tr>\n",
       "      <th>3</th>\n",
       "      <td>Urban</td>\n",
       "      <td>Heart disease</td>\n",
       "      <td>157.55</td>\n",
       "    </tr>\n",
       "    <tr>\n",
       "      <th>4</th>\n",
       "      <td>Rural</td>\n",
       "      <td>Lower respiratory</td>\n",
       "      <td>50.90</td>\n",
       "    </tr>\n",
       "  </tbody>\n",
       "</table>\n",
       "</div>"
      ],
      "text/plain": [
       "  Status              Cause    Rate\n",
       "0  Rural      Heart disease  184.00\n",
       "1  Rural             Cancer  165.20\n",
       "2  Urban             Cancer  158.45\n",
       "3  Urban      Heart disease  157.55\n",
       "4  Rural  Lower respiratory   50.90"
      ]
     },
     "execution_count": 59,
     "metadata": {},
     "output_type": "execute_result"
    }
   ],
   "source": [
    "df = pd.read_csv('Data Files/HHS_StatusCauseRate.csv')\n",
    "df.head()"
   ]
  },
  {
   "cell_type": "code",
   "execution_count": 60,
   "metadata": {},
   "outputs": [],
   "source": [
    "df['Rate'] = df['Rate'].round(2)"
   ]
  },
  {
   "cell_type": "code",
   "execution_count": 61,
   "metadata": {},
   "outputs": [
    {
     "data": {
      "text/plain": [
       "[{'name': 'Alzheimers', 'values': {'Rural': 23.9, 'Urban': 22.75}},\n",
       " {'name': 'Cancer', 'values': {'Rural': 165.2, 'Urban': 158.45}},\n",
       " {'name': 'Cerebrovascular diseases',\n",
       "  'values': {'Rural': 39.65, 'Urban': 36.45}},\n",
       " {'name': 'Diabetes', 'values': {'Rural': 24.6, 'Urban': 19.55}},\n",
       " {'name': 'Flu and pneumonia', 'values': {'Rural': 17.7, 'Urban': 14.45}},\n",
       " {'name': 'Heart disease', 'values': {'Rural': 184.0, 'Urban': 157.55}},\n",
       " {'name': 'Lower respiratory', 'values': {'Rural': 50.9, 'Urban': 40.0}},\n",
       " {'name': 'Nephritis', 'values': {'Rural': 12.9, 'Urban': 12.9}},\n",
       " {'name': 'Suicide', 'values': {'Rural': 15.0, 'Urban': 10.65}},\n",
       " {'name': 'Unintentional injuries', 'values': {'Rural': 45.45, 'Urban': 36.2}}]"
      ]
     },
     "execution_count": 61,
     "metadata": {},
     "output_type": "execute_result"
    }
   ],
   "source": [
    "data = []\n",
    "for cause, group in df.groupby('Cause'):\n",
    "    temp = {\n",
    "        'name': cause,\n",
    "        'values': dict(zip(group['Status'], group['Rate'])) \n",
    "    }\n",
    "    data.append(temp)\n",
    "    \n",
    "data"
   ]
  },
  {
   "cell_type": "code",
   "execution_count": 62,
   "metadata": {},
   "outputs": [],
   "source": [
    "data = {'request': 'Cause-Urban || Rural', \"title\":\"Average Mortality Rate by Every Cause in Rural/Urban Area\", 'hue':True, 'data': data}"
   ]
  },
  {
   "cell_type": "code",
   "execution_count": 63,
   "metadata": {},
   "outputs": [
    {
     "data": {
      "text/plain": [
       "InsertOneResult(ObjectId('67128f3f36e25fb2d33ce1a5'), acknowledged=True)"
      ]
     },
     "execution_count": 63,
     "metadata": {},
     "output_type": "execute_result"
    }
   ],
   "source": [
    "db.insert_one(data)"
   ]
  },
  {
   "cell_type": "code",
   "execution_count": 64,
   "metadata": {},
   "outputs": [
    {
     "data": {
      "text/html": [
       "<div>\n",
       "<style scoped>\n",
       "    .dataframe tbody tr th:only-of-type {\n",
       "        vertical-align: middle;\n",
       "    }\n",
       "\n",
       "    .dataframe tbody tr th {\n",
       "        vertical-align: top;\n",
       "    }\n",
       "\n",
       "    .dataframe thead th {\n",
       "        text-align: right;\n",
       "    }\n",
       "</style>\n",
       "<table border=\"1\" class=\"dataframe\">\n",
       "  <thead>\n",
       "    <tr style=\"text-align: right;\">\n",
       "      <th></th>\n",
       "      <th>Sex</th>\n",
       "      <th>Cause</th>\n",
       "      <th>Rate</th>\n",
       "    </tr>\n",
       "  </thead>\n",
       "  <tbody>\n",
       "    <tr>\n",
       "      <th>0</th>\n",
       "      <td>Female</td>\n",
       "      <td>Alzheimers</td>\n",
       "      <td>27.85</td>\n",
       "    </tr>\n",
       "    <tr>\n",
       "      <th>1</th>\n",
       "      <td>Female</td>\n",
       "      <td>Cancer</td>\n",
       "      <td>144.25</td>\n",
       "    </tr>\n",
       "    <tr>\n",
       "      <th>2</th>\n",
       "      <td>Female</td>\n",
       "      <td>Cerebrovascular diseases</td>\n",
       "      <td>37.35</td>\n",
       "    </tr>\n",
       "    <tr>\n",
       "      <th>3</th>\n",
       "      <td>Female</td>\n",
       "      <td>Diabetes</td>\n",
       "      <td>17.75</td>\n",
       "    </tr>\n",
       "    <tr>\n",
       "      <th>4</th>\n",
       "      <td>Female</td>\n",
       "      <td>Flu and pneumonia</td>\n",
       "      <td>13.75</td>\n",
       "    </tr>\n",
       "  </tbody>\n",
       "</table>\n",
       "</div>"
      ],
      "text/plain": [
       "      Sex                     Cause    Rate\n",
       "0  Female                Alzheimers   27.85\n",
       "1  Female                    Cancer  144.25\n",
       "2  Female  Cerebrovascular diseases   37.35\n",
       "3  Female                  Diabetes   17.75\n",
       "4  Female         Flu and pneumonia   13.75"
      ]
     },
     "execution_count": 64,
     "metadata": {},
     "output_type": "execute_result"
    }
   ],
   "source": [
    "df = pd.read_csv('Data Files/HHS_SexCauseRate.csv')\n",
    "df.head()"
   ]
  },
  {
   "cell_type": "code",
   "execution_count": 65,
   "metadata": {},
   "outputs": [],
   "source": [
    "df['Rate'] = df['Rate'].round(2)"
   ]
  },
  {
   "cell_type": "code",
   "execution_count": 66,
   "metadata": {},
   "outputs": [
    {
     "data": {
      "text/plain": [
       "[{'name': 'Alzheimers', 'values': {'Female': 27.85, 'Male': 20.8}},\n",
       " {'name': 'Cancer', 'values': {'Female': 144.25, 'Male': 203.5}},\n",
       " {'name': 'Cerebrovascular diseases',\n",
       "  'values': {'Female': 37.35, 'Male': 37.3}},\n",
       " {'name': 'Diabetes', 'values': {'Female': 17.75, 'Male': 25.25}},\n",
       " {'name': 'Flu and pneumonia', 'values': {'Female': 13.75, 'Male': 18.55}},\n",
       " {'name': 'Heart disease', 'values': {'Female': 135.15, 'Male': 215.5}},\n",
       " {'name': 'Lower respiratory', 'values': {'Female': 40.75, 'Male': 51.2}},\n",
       " {'name': 'Nephritis', 'values': {'Female': 11.65, 'Male': 16.85}},\n",
       " {'name': 'Suicide', 'values': {'Female': 5.8, 'Male': 23.7}},\n",
       " {'name': 'Unintentional injuries',\n",
       "  'values': {'Female': 28.75, 'Male': 55.75}}]"
      ]
     },
     "execution_count": 66,
     "metadata": {},
     "output_type": "execute_result"
    }
   ],
   "source": [
    "data = []\n",
    "for cause, group in df.groupby('Cause'):\n",
    "    temp = {\n",
    "        'name': cause,\n",
    "        'values': dict(zip(group['Sex'], group['Rate'])) \n",
    "    }\n",
    "    data.append(temp)\n",
    "    \n",
    "data"
   ]
  },
  {
   "cell_type": "code",
   "execution_count": 67,
   "metadata": {},
   "outputs": [],
   "source": [
    "data = {'request': 'Cause-Gender', \"title\":\"Average Mortality Rate by Every Cause and Gender\", 'hue':True, 'data': data}"
   ]
  },
  {
   "cell_type": "code",
   "execution_count": 68,
   "metadata": {},
   "outputs": [
    {
     "data": {
      "text/plain": [
       "InsertOneResult(ObjectId('67128f7436e25fb2d33ce1a6'), acknowledged=True)"
      ]
     },
     "execution_count": 68,
     "metadata": {},
     "output_type": "execute_result"
    }
   ],
   "source": [
    "db.insert_one(data)"
   ]
  },
  {
   "cell_type": "code",
   "execution_count": 69,
   "metadata": {},
   "outputs": [
    {
     "data": {
      "text/html": [
       "<div>\n",
       "<style scoped>\n",
       "    .dataframe tbody tr th:only-of-type {\n",
       "        vertical-align: middle;\n",
       "    }\n",
       "\n",
       "    .dataframe tbody tr th {\n",
       "        vertical-align: top;\n",
       "    }\n",
       "\n",
       "    .dataframe thead th {\n",
       "        text-align: right;\n",
       "    }\n",
       "</style>\n",
       "<table border=\"1\" class=\"dataframe\">\n",
       "  <thead>\n",
       "    <tr style=\"text-align: right;\">\n",
       "      <th></th>\n",
       "      <th>Status</th>\n",
       "      <th>Sex</th>\n",
       "      <th>Cause</th>\n",
       "      <th>Rate</th>\n",
       "    </tr>\n",
       "  </thead>\n",
       "  <tbody>\n",
       "    <tr>\n",
       "      <th>0</th>\n",
       "      <td>Rural</td>\n",
       "      <td>Female</td>\n",
       "      <td>Alzheimers</td>\n",
       "      <td>28.75</td>\n",
       "    </tr>\n",
       "    <tr>\n",
       "      <th>1</th>\n",
       "      <td>Rural</td>\n",
       "      <td>Female</td>\n",
       "      <td>Cancer</td>\n",
       "      <td>150.70</td>\n",
       "    </tr>\n",
       "    <tr>\n",
       "      <th>2</th>\n",
       "      <td>Rural</td>\n",
       "      <td>Female</td>\n",
       "      <td>Cerebrovascular diseases</td>\n",
       "      <td>40.10</td>\n",
       "    </tr>\n",
       "    <tr>\n",
       "      <th>3</th>\n",
       "      <td>Rural</td>\n",
       "      <td>Female</td>\n",
       "      <td>Diabetes</td>\n",
       "      <td>19.60</td>\n",
       "    </tr>\n",
       "    <tr>\n",
       "      <th>4</th>\n",
       "      <td>Rural</td>\n",
       "      <td>Female</td>\n",
       "      <td>Flu and pneumonia</td>\n",
       "      <td>14.90</td>\n",
       "    </tr>\n",
       "  </tbody>\n",
       "</table>\n",
       "</div>"
      ],
      "text/plain": [
       "  Status     Sex                     Cause    Rate\n",
       "0  Rural  Female                Alzheimers   28.75\n",
       "1  Rural  Female                    Cancer  150.70\n",
       "2  Rural  Female  Cerebrovascular diseases   40.10\n",
       "3  Rural  Female                  Diabetes   19.60\n",
       "4  Rural  Female         Flu and pneumonia   14.90"
      ]
     },
     "execution_count": 69,
     "metadata": {},
     "output_type": "execute_result"
    }
   ],
   "source": [
    "df = pd.read_csv('Data Files/RuralAreaSexCauseRate.csv')\n",
    "df.head()"
   ]
  },
  {
   "cell_type": "code",
   "execution_count": 70,
   "metadata": {},
   "outputs": [],
   "source": [
    "df['Rate'] = df['Rate'].round(2)"
   ]
  },
  {
   "cell_type": "code",
   "execution_count": 71,
   "metadata": {},
   "outputs": [
    {
     "data": {
      "text/plain": [
       "[{'name': 'Alzheimers', 'values': {'Female': 28.75, 'Male': 21.05}},\n",
       " {'name': 'Cancer', 'values': {'Female': 150.7, 'Male': 209.5}},\n",
       " {'name': 'Cerebrovascular diseases',\n",
       "  'values': {'Female': 40.1, 'Male': 38.15}},\n",
       " {'name': 'Diabetes', 'values': {'Female': 19.6, 'Male': 27.2}},\n",
       " {'name': 'Flu and pneumonia', 'values': {'Female': 14.9, 'Male': 19.35}},\n",
       " {'name': 'Heart disease', 'values': {'Female': 146.55, 'Male': 233.35}},\n",
       " {'name': 'Lower respiratory', 'values': {'Female': 45.45, 'Male': 59.6}},\n",
       " {'name': 'Nephritis', 'values': {'Female': 12.05, 'Male': 15.45}},\n",
       " {'name': 'Suicide', 'values': {'Female': 6.2, 'Male': 26.45}},\n",
       " {'name': 'Unintentional injuries', 'values': {'Female': 38.2, 'Male': 69.55}}]"
      ]
     },
     "execution_count": 71,
     "metadata": {},
     "output_type": "execute_result"
    }
   ],
   "source": [
    "data = []\n",
    "for cause, group in df.groupby('Cause'):\n",
    "    temp = {\n",
    "        'name': cause,\n",
    "        'values': dict(zip(group['Sex'], group['Rate'])) \n",
    "    }\n",
    "    data.append(temp)\n",
    "    \n",
    "data"
   ]
  },
  {
   "cell_type": "code",
   "execution_count": 72,
   "metadata": {},
   "outputs": [],
   "source": [
    "data = {'request': 'Cause-Rural-Gender', \"title\":\"Average Mortality Rate in Rural Area by Cause and Gender\", 'hue':True, 'data': data}"
   ]
  },
  {
   "cell_type": "code",
   "execution_count": 73,
   "metadata": {},
   "outputs": [
    {
     "data": {
      "text/plain": [
       "InsertOneResult(ObjectId('67128f9536e25fb2d33ce1a7'), acknowledged=True)"
      ]
     },
     "execution_count": 73,
     "metadata": {},
     "output_type": "execute_result"
    }
   ],
   "source": [
    "db.insert_one(data)"
   ]
  },
  {
   "cell_type": "code",
   "execution_count": 74,
   "metadata": {},
   "outputs": [
    {
     "data": {
      "text/html": [
       "<div>\n",
       "<style scoped>\n",
       "    .dataframe tbody tr th:only-of-type {\n",
       "        vertical-align: middle;\n",
       "    }\n",
       "\n",
       "    .dataframe tbody tr th {\n",
       "        vertical-align: top;\n",
       "    }\n",
       "\n",
       "    .dataframe thead th {\n",
       "        text-align: right;\n",
       "    }\n",
       "</style>\n",
       "<table border=\"1\" class=\"dataframe\">\n",
       "  <thead>\n",
       "    <tr style=\"text-align: right;\">\n",
       "      <th></th>\n",
       "      <th>Status</th>\n",
       "      <th>Sex</th>\n",
       "      <th>Cause</th>\n",
       "      <th>Rate</th>\n",
       "    </tr>\n",
       "  </thead>\n",
       "  <tbody>\n",
       "    <tr>\n",
       "      <th>0</th>\n",
       "      <td>Urban</td>\n",
       "      <td>Female</td>\n",
       "      <td>Alzheimers</td>\n",
       "      <td>26.85</td>\n",
       "    </tr>\n",
       "    <tr>\n",
       "      <th>1</th>\n",
       "      <td>Urban</td>\n",
       "      <td>Female</td>\n",
       "      <td>Cancer</td>\n",
       "      <td>140.10</td>\n",
       "    </tr>\n",
       "    <tr>\n",
       "      <th>2</th>\n",
       "      <td>Urban</td>\n",
       "      <td>Female</td>\n",
       "      <td>Cerebrovascular diseases</td>\n",
       "      <td>35.80</td>\n",
       "    </tr>\n",
       "    <tr>\n",
       "      <th>3</th>\n",
       "      <td>Urban</td>\n",
       "      <td>Female</td>\n",
       "      <td>Diabetes</td>\n",
       "      <td>16.95</td>\n",
       "    </tr>\n",
       "    <tr>\n",
       "      <th>4</th>\n",
       "      <td>Urban</td>\n",
       "      <td>Female</td>\n",
       "      <td>Flu and pneumonia</td>\n",
       "      <td>12.85</td>\n",
       "    </tr>\n",
       "  </tbody>\n",
       "</table>\n",
       "</div>"
      ],
      "text/plain": [
       "  Status     Sex                     Cause    Rate\n",
       "0  Urban  Female                Alzheimers   26.85\n",
       "1  Urban  Female                    Cancer  140.10\n",
       "2  Urban  Female  Cerebrovascular diseases   35.80\n",
       "3  Urban  Female                  Diabetes   16.95\n",
       "4  Urban  Female         Flu and pneumonia   12.85"
      ]
     },
     "execution_count": 74,
     "metadata": {},
     "output_type": "execute_result"
    }
   ],
   "source": [
    "df = pd.read_csv('Data Files/UrbanAreaSexCauseRate.csv')\n",
    "df.head()"
   ]
  },
  {
   "cell_type": "code",
   "execution_count": 75,
   "metadata": {},
   "outputs": [],
   "source": [
    "df['Rate'] = df['Rate'].round(2)"
   ]
  },
  {
   "cell_type": "code",
   "execution_count": 76,
   "metadata": {},
   "outputs": [
    {
     "data": {
      "text/plain": [
       "[{'name': 'Alzheimers', 'values': {'Female': 26.85, 'Male': 20.35}},\n",
       " {'name': 'Cancer', 'values': {'Female': 140.1, 'Male': 198.05}},\n",
       " {'name': 'Cerebrovascular diseases',\n",
       "  'values': {'Female': 35.8, 'Male': 37.15}},\n",
       " {'name': 'Diabetes', 'values': {'Female': 16.95, 'Male': 25.1}},\n",
       " {'name': 'Flu and pneumonia', 'values': {'Female': 12.85, 'Male': 18.15}},\n",
       " {'name': 'Heart disease', 'values': {'Female': 131.65, 'Male': 211.4}},\n",
       " {'name': 'Lower respiratory', 'values': {'Female': 37.75, 'Male': 47.4}},\n",
       " {'name': 'Nephritis', 'values': {'Female': 11.3, 'Male': 17.65}},\n",
       " {'name': 'Suicide', 'values': {'Female': 5.25, 'Male': 19.65}},\n",
       " {'name': 'Unintentional injuries',\n",
       "  'values': {'Female': 26.45, 'Male': 51.35}}]"
      ]
     },
     "execution_count": 76,
     "metadata": {},
     "output_type": "execute_result"
    }
   ],
   "source": [
    "data = []\n",
    "for cause, group in df.groupby('Cause'):\n",
    "    temp = {\n",
    "        'name': cause,\n",
    "        'values': dict(zip(group['Sex'], group['Rate'])) \n",
    "    }\n",
    "    data.append(temp)\n",
    "    \n",
    "data"
   ]
  },
  {
   "cell_type": "code",
   "execution_count": 77,
   "metadata": {},
   "outputs": [],
   "source": [
    "data = {'request': 'Cause-Urban-Gender', \"title\":\"Average Mortality Rate in Urban Area by Cause and Gender\", 'hue':True, 'data': data}"
   ]
  },
  {
   "cell_type": "code",
   "execution_count": 78,
   "metadata": {},
   "outputs": [
    {
     "data": {
      "text/plain": [
       "InsertOneResult(ObjectId('67128fa836e25fb2d33ce1a8'), acknowledged=True)"
      ]
     },
     "execution_count": 78,
     "metadata": {},
     "output_type": "execute_result"
    }
   ],
   "source": [
    "db.insert_one(data)"
   ]
  },
  {
   "cell_type": "code",
   "execution_count": 83,
   "metadata": {},
   "outputs": [],
   "source": [
    "del data\n"
   ]
  },
  {
   "cell_type": "code",
   "execution_count": 84,
   "metadata": {},
   "outputs": [],
   "source": [
    "for i in range(1, 11):\n",
    "    df = pd.read_csv(f'Data Files/Regions_Cause/HHS_RegionCauseRate_HHS Region {i:02}.csv')\n",
    "    df.drop('Region', axis=1, inplace=True)\n",
    "    df.columns = ['name', 'value']\n",
    "    df['value'] = df['value'].round(2)\n",
    "    data = df.to_dict(orient='records')\n",
    "    main_data = {'request': f'HHS{i}-Cause', \"title\": f\"Average Mortality Rate by Cause in HHS {i} Region\", 'hue':False, 'data': data}\n",
    "    db.insert_one(main_data)"
   ]
  },
  {
   "cell_type": "code",
   "execution_count": 87,
   "metadata": {},
   "outputs": [],
   "source": [
    "del data\n",
    "del main_data"
   ]
  },
  {
   "cell_type": "code",
   "execution_count": 88,
   "metadata": {},
   "outputs": [],
   "source": [
    "for i in range(1, 11):\n",
    "    df = pd.read_csv(f'Data Files/Regions_Status/HHS_RegionStatusRate_HHS Region {i:02}.csv')\n",
    "    df.drop('Region', axis=1, inplace=True)\n",
    "    df.columns = ['name', 'value']\n",
    "    df['value'] = df['value'].round(2)\n",
    "    data = df.to_dict(orient='records')\n",
    "    main_data = {'request': f'HHS{i}-Urban || Rural', \"title\": f\"Average Mortality Rate by Rural/Urban in HHS {i} Region\", 'hue':False, 'data': data}\n",
    "    db.insert_one(main_data)"
   ]
  },
  {
   "cell_type": "code",
   "execution_count": 91,
   "metadata": {},
   "outputs": [],
   "source": [
    "del data\n",
    "del main_data"
   ]
  },
  {
   "cell_type": "code",
   "execution_count": 92,
   "metadata": {},
   "outputs": [],
   "source": [
    "for i in range(1, 11):\n",
    "    df = pd.read_csv(f'Data Files/Regions_Gender/HHS_RegionSexRate_HHS Region {i:02}.csv')\n",
    "    df.drop('Region', axis=1, inplace=True)\n",
    "    df.columns = ['name', 'value']\n",
    "    df['value'] = df['value'].round(2)\n",
    "    data = df.to_dict(orient='records')\n",
    "    main_data = {'request': f'HHS{i}-Gender', \"title\": f\"Average Mortality Rate by Gender in HHS {i} Region\", 'hue':False, 'data': data}\n",
    "    db.insert_one(main_data)"
   ]
  },
  {
   "cell_type": "code",
   "execution_count": 93,
   "metadata": {},
   "outputs": [],
   "source": [
    "del data\n",
    "del main_data"
   ]
  },
  {
   "cell_type": "code",
   "execution_count": 94,
   "metadata": {},
   "outputs": [],
   "source": [
    "for i in range(1, 11):\n",
    "    df = pd.read_csv(f'Data Files/Regions_Status_Gender/HHS_RegionStatusSexRate_HHS Region {i:02}.csv')\n",
    "    df.drop('Region', axis=1, inplace=True)\n",
    "    df['Rate'] = df['Rate'].round(2)\n",
    "    val = df.to_dict(orient='list')\n",
    "\n",
    "    data=[{'name':'Rural', 'values':{'Male':val['Rate'][0], 'Female':val['Rate'][1]}},{'name':'Urban', 'values':{'Male':val['Rate'][2], 'Female':val['Rate'][3]}}]\n",
    "    \n",
    "    main_data = {'request': f'HHS{i}-Cause-Urban || Rural', \"title\": f\"Average Mortality Rate by Urban/Rural and Gender in HHS {i} Region\", 'hue':True, 'data': data}\n",
    "    db.insert_one(main_data)"
   ]
  },
  {
   "cell_type": "code",
   "execution_count": 102,
   "metadata": {},
   "outputs": [],
   "source": [
    "del data\n",
    "del main_data"
   ]
  },
  {
   "cell_type": "code",
   "execution_count": 106,
   "metadata": {},
   "outputs": [],
   "source": [
    "for i in range(1, 11):\n",
    "    df = pd.read_csv(f'Data Files/Regions_Status_Cause/HHS_RegionStatusCauseRate_HHS Region {i:02}.csv')\n",
    "    df.drop('Region', axis=1, inplace=True)\n",
    "    df['Rate'] = df['Rate'].round(2)\n",
    "    val = df.to_dict(orient='records')\n",
    "\n",
    "    data = list()\n",
    "\n",
    "    for val1, val2 in zip(val[:11], val[10:]):\n",
    "        temp = {'name':val1['Cause'], 'values':{val1['Status']:val1['Rate'], val2['Status']:val2['Rate']}}\n",
    "        data.append(temp)\n",
    "\n",
    "    main_data = {'request': f'HHS{i}-Urban || Rural-Cause', \"title\": f\"Average Mortality Rate by Cause and Urban/Rural in HHS {i} Region\", 'hue':True, 'data': data}\n",
    "    db.insert_one(main_data)"
   ]
  },
  {
   "cell_type": "code",
   "execution_count": 114,
   "metadata": {},
   "outputs": [],
   "source": [
    "del data\n",
    "del main_data"
   ]
  },
  {
   "cell_type": "code",
   "execution_count": 115,
   "metadata": {},
   "outputs": [],
   "source": [
    "for i in range(1, 11):\n",
    "    df = pd.read_csv(f'Data Files/Regions_Cause_Gender/HHS_RegionSexCauseRate_HHS Region {i:02}.csv')\n",
    "    df.drop('Region', axis=1, inplace=True)\n",
    "    df['Rate'] = df['Rate'].round(2)\n",
    "    val = df.to_dict(orient='records')\n",
    "\n",
    "    data = list()\n",
    "\n",
    "    for val1, val2 in zip(val[:11], val[10:]):\n",
    "        temp = {'name':val1['Cause'], 'values':{val1['Sex']:val1['Rate'], val2['Sex']:val2['Rate']}}\n",
    "        data.append(temp)\n",
    "\n",
    "    main_data = {'request': f'HHS{i}-Cause-Gender', \"title\": f\"Average Mortality Rate by Cause and Gender in HHS {i} Region\", 'hue':True, 'data': data}\n",
    "    db.insert_one(main_data)"
   ]
  }
 ],
 "metadata": {
  "kernelspec": {
   "display_name": "Python 3",
   "language": "python",
   "name": "python3"
  },
  "language_info": {
   "codemirror_mode": {
    "name": "ipython",
    "version": 3
   },
   "file_extension": ".py",
   "mimetype": "text/x-python",
   "name": "python",
   "nbconvert_exporter": "python",
   "pygments_lexer": "ipython3",
   "version": "3.12.5"
  }
 },
 "nbformat": 4,
 "nbformat_minor": 4
}
